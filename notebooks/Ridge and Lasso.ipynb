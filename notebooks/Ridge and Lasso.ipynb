{
 "cells": [
  {
   "cell_type": "code",
   "execution_count": 1,
   "metadata": {},
   "outputs": [],
   "source": [
    "import numpy as np\n",
    "from sklearn.decomposition import PCA\n",
    "from sklearn.linear_model import RidgeCV, MultiTaskLassoCV\n",
    "from sklearn.model_selection import KFold\n",
    "from sklearn.metrics import pairwise_distances\n",
    "import warnings\n",
    "warnings.simplefilter('ignore')"
   ]
  },
  {
   "cell_type": "code",
   "execution_count": 10,
   "metadata": {},
   "outputs": [],
   "source": [
    "text_train = np.load('../data/text_train_tf.npy')\n",
    "pics_train = np.load('../data/pics_train_tf.npy')"
   ]
  },
  {
   "cell_type": "code",
   "execution_count": 11,
   "metadata": {},
   "outputs": [],
   "source": [
    "pca = PCA(n_components=100)\n",
    "pca.fit(pics_train[:,:-512])\n",
    "pics_train_100 = pca.transform(pics_train[:,:-512])"
   ]
  },
  {
   "cell_type": "code",
   "execution_count": 12,
   "metadata": {},
   "outputs": [],
   "source": [
    "def get_prediction(vecs,pics):\n",
    "    dists = pairwise_distances(vecs,pics,metric='cosine')\n",
    "    return dists.argsort(1)\n",
    "\n",
    "def map_20(ranks):\n",
    "    return np.mean([(20-rank)/20 if rank<20 else 0 for rank in ranks])\n",
    "\n",
    "def evaluate(vectors,label_vectors):\n",
    "    preds = get_prediction(vectors,label_vectors)\n",
    "    ranks = [np.argwhere(vec==i)[0][0] for i,vec in enumerate(preds)]\n",
    "    return np.mean(ranks),map_20(ranks)"
   ]
  },
  {
   "cell_type": "code",
   "execution_count": 13,
   "metadata": {},
   "outputs": [
    {
     "name": "stdout",
     "output_type": "stream",
     "text": [
      "1.4620689655172414\n",
      "(49.628, 0.39304999999999995)\n",
      "1.4620689655172414\n",
      "(51.719, 0.395575)\n",
      "1.4620689655172414\n",
      "(50.151, 0.38994999999999996)\n",
      "1.4620689655172414\n",
      "(47.123, 0.38952499999999995)\n",
      "1.4620689655172414\n",
      "(50.963, 0.3875)\n"
     ]
    }
   ],
   "source": [
    "rcv = RidgeCV(cv=5,alphas=np.linspace(0.1,8,30))\n",
    "cv = KFold()\n",
    "results = []\n",
    "for train_index,test_index in cv.split(text_train,pics_train_100):\n",
    "    rcv.fit(text_train[train_index],pics_train_100[train_index])\n",
    "    print(rcv.alpha_)\n",
    "    vectors = rcv.predict(text_train[test_index])\n",
    "    res = evaluate(vectors,pics_train_100[test_index])\n",
    "    print(res)\n",
    "    results.append(res)"
   ]
  },
  {
   "cell_type": "code",
   "execution_count": 23,
   "metadata": {},
   "outputs": [
    {
     "name": "stdout",
     "output_type": "stream",
     "text": [
      "1.4620689655172414\n",
      "(49.62, 0.393175)\n",
      "1.4620689655172414\n",
      "(51.6595, 0.39607500000000007)\n",
      "1.4620689655172414\n",
      "(50.154, 0.39002499999999996)\n",
      "1.4620689655172414\n",
      "(47.1025, 0.389925)\n",
      "1.4620689655172414\n",
      "(50.9125, 0.38717499999999994)\n"
     ]
    }
   ],
   "source": [
    "rcv = RidgeCV(cv=5,alphas=np.linspace(0.1,8,30))\n",
    "cv = KFold()\n",
    "results = []\n",
    "for train_index,test_index in cv.split(text_train,pics_train_100):\n",
    "    rcv.fit(text_train[train_index],pics_train_100[train_index])\n",
    "    print(rcv.alpha_)\n",
    "    vectors = rcv.predict(text_train[test_index])\n",
    "    res = evaluate(vectors,pics_train_100[test_index])\n",
    "    print(res)\n",
    "    results.append(res)"
   ]
  },
  {
   "cell_type": "code",
   "execution_count": null,
   "metadata": {},
   "outputs": [],
   "source": [
    "lcv = MultiTaskLassoCV(cv=5,n_jobs=3,n_alphas=8)\n",
    "cv = KFold()\n",
    "results = []\n",
    "for train_index,test_index in cv.split(text_train,pics_train_100):\n",
    "    lcv.fit(text_train[train_index],pics_train_100[train_index])\n",
    "    print(lcv.alpha_)\n",
    "    vectors = lcv.predict(text_train[test_index])\n",
    "    res = evaluate(vectors,pics_train_100[test_index])\n",
    "    print(res)\n",
    "    results.append(res)"
   ]
  },
  {
   "cell_type": "code",
   "execution_count": null,
   "metadata": {},
   "outputs": [],
   "source": []
  }
 ],
 "metadata": {
  "kernelspec": {
   "display_name": "Python 3",
   "language": "python",
   "name": "python3"
  },
  "language_info": {
   "codemirror_mode": {
    "name": "ipython",
    "version": 3
   },
   "file_extension": ".py",
   "mimetype": "text/x-python",
   "name": "python",
   "nbconvert_exporter": "python",
   "pygments_lexer": "ipython3",
   "version": "3.7.5"
  }
 },
 "nbformat": 4,
 "nbformat_minor": 2
}
