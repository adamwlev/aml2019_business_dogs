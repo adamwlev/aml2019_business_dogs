{
  "nbformat": 4,
  "nbformat_minor": 0,
  "metadata": {
    "colab": {
      "name": "Untitled1.ipynb",
      "provenance": [],
      "collapsed_sections": [
        "zA7n7KgV6hYr"
      ],
      "machine_shape": "hm"
    },
    "kernelspec": {
      "name": "python3",
      "display_name": "Python 3"
    },
    "accelerator": "TPU"
  },
  "cells": [
    {
      "cell_type": "code",
      "metadata": {
        "id": "CR_b0V47oS8N",
        "colab_type": "code",
        "outputId": "1e1424c3-196a-4a6b-f600-8f9a643335c0",
        "colab": {
          "base_uri": "https://localhost:8080/",
          "height": 153
        }
      },
      "source": [
        "import numpy as np\n",
        "import sklearn\n",
        "import nltk\n",
        "from textblob import TextBlob\n",
        "from sklearn.feature_extraction.text import CountVectorizer\n",
        "from sklearn.feature_extraction.text import TfidfVectorizer\n",
        "import random\n",
        "from sklearn.metrics.pairwise import cosine_similarity\n",
        "from sklearn.model_selection import train_test_split\n",
        "from sklearn.linear_model import LogisticRegression\n",
        "from sklearn.ensemble import RandomForestClassifier\n",
        "\n",
        "nltk.download('punkt')\n",
        "nltk.download('averaged_perceptron_tagger')\n",
        "nltk.download('brown')"
      ],
      "execution_count": 0,
      "outputs": [
        {
          "output_type": "stream",
          "text": [
            "[nltk_data] Downloading package punkt to /root/nltk_data...\n",
            "[nltk_data]   Unzipping tokenizers/punkt.zip.\n",
            "[nltk_data] Downloading package averaged_perceptron_tagger to\n",
            "[nltk_data]     /root/nltk_data...\n",
            "[nltk_data]   Unzipping taggers/averaged_perceptron_tagger.zip.\n",
            "[nltk_data] Downloading package brown to /root/nltk_data...\n",
            "[nltk_data]   Unzipping corpora/brown.zip.\n"
          ],
          "name": "stdout"
        },
        {
          "output_type": "execute_result",
          "data": {
            "text/plain": [
              "True"
            ]
          },
          "metadata": {
            "tags": []
          },
          "execution_count": 3
        }
      ]
    },
    {
      "cell_type": "code",
      "metadata": {
        "id": "9b2eFyGeoXzW",
        "colab_type": "code",
        "outputId": "096bdcfd-f1fe-43cc-8542-eeb9408efc60",
        "colab": {
          "base_uri": "https://localhost:8080/",
          "height": 122
        }
      },
      "source": [
        "from google.colab import drive\n",
        "drive.mount('/content/drive')"
      ],
      "execution_count": 0,
      "outputs": [
        {
          "output_type": "stream",
          "text": [
            "Go to this URL in a browser: https://accounts.google.com/o/oauth2/auth?client_id=947318989803-6bn6qk8qdgf4n4g3pfee6491hc0brc4i.apps.googleusercontent.com&redirect_uri=urn%3aietf%3awg%3aoauth%3a2.0%3aoob&response_type=code&scope=email%20https%3a%2f%2fwww.googleapis.com%2fauth%2fdocs.test%20https%3a%2f%2fwww.googleapis.com%2fauth%2fdrive%20https%3a%2f%2fwww.googleapis.com%2fauth%2fdrive.photos.readonly%20https%3a%2f%2fwww.googleapis.com%2fauth%2fpeopleapi.readonly\n",
            "\n",
            "Enter your authorization code:\n",
            "··········\n",
            "Mounted at /content/drive\n"
          ],
          "name": "stdout"
        }
      ]
    },
    {
      "cell_type": "code",
      "metadata": {
        "id": "nho9Ht31oYH4",
        "colab_type": "code",
        "colab": {}
      },
      "source": [
        "base_path = \"drive/My Drive/AML/Final/data/\""
      ],
      "execution_count": 0,
      "outputs": []
    },
    {
      "cell_type": "code",
      "metadata": {
        "id": "6Qmy4G7oosZj",
        "colab_type": "code",
        "colab": {}
      },
      "source": [
        "def flatten_descriptions(file_contents):\n",
        "  descriptions = []\n",
        "  labels = []\n",
        "\n",
        "  for i, description_set in enumerate(file_contents):\n",
        "    for description in description_set.split(\"\\n\"):\n",
        "      if len(description) == 0: continue\n",
        "\n",
        "      descriptions.append(description)\n",
        "      labels.append(i)\n",
        "\n",
        "  return descriptions, labels"
      ],
      "execution_count": 0,
      "outputs": []
    },
    {
      "cell_type": "markdown",
      "metadata": {
        "id": "B638oBcKpqzH",
        "colab_type": "text"
      },
      "source": [
        "\n",
        "\n",
        "---\n",
        "\n"
      ]
    },
    {
      "cell_type": "code",
      "metadata": {
        "id": "YzqhxGnvpm7-",
        "colab_type": "code",
        "colab": {}
      },
      "source": [
        "def noun_phrases(text):\n",
        "  blob = TextBlob(text)\n",
        "  nouns = [noun[0] for noun in filter(lambda x:x[1]=='NN', blob.tags)]\n",
        "  noun_phrases = blob.noun_phrases\n",
        "\n",
        "  return set(nouns+noun_phrases)"
      ],
      "execution_count": 0,
      "outputs": []
    },
    {
      "cell_type": "code",
      "metadata": {
        "id": "LFgCm3mbQnKb",
        "colab_type": "code",
        "colab": {}
      },
      "source": [
        "def preprocess_descr(descriptions):\n",
        "    mapped_desc = []\n",
        "\n",
        "    for description in descriptions:\n",
        "      nouns = noun_phrases(description)\n",
        "\n",
        "      noun_only_description = [word for word in description.split(\" \") if word in nouns]\n",
        "      mapped_desc.append(\" \".join(noun_only_description))\n",
        "\n",
        "    return mapped_desc"
      ],
      "execution_count": 0,
      "outputs": []
    },
    {
      "cell_type": "code",
      "metadata": {
        "id": "w7nmBliEDtQU",
        "colab_type": "code",
        "colab": {}
      },
      "source": [
        "def preprocess_tags(tags_file_contents):\n",
        "  comp_tags = []\n",
        "\n",
        "  for i, tag_set in enumerate(tags_file_contents):\n",
        "    compound_tag = [tag.split(\":\")[1] if \":\" in tag else \"\" for tag in tag_set.split(\"\\n\")]\n",
        "    comp_tags.append(\" \".join(compound_tag))\n",
        "\n",
        "  return comp_tags"
      ],
      "execution_count": 0,
      "outputs": []
    },
    {
      "cell_type": "code",
      "metadata": {
        "id": "FA9Hw7ODpYlJ",
        "colab_type": "code",
        "colab": {}
      },
      "source": [
        "def bag_nouns_vecs(descriptions):\n",
        "    mapped_desc = preprocess_descr(descriptions)\n",
        "\n",
        "    vectorizer = TfidfVectorizer(stop_words=\"english\")\n",
        "    freq_vecs = vectorizer.fit_transform(mapped_desc)\n",
        "\n",
        "    return freq_vecs.toarray(), vectorizer"
      ],
      "execution_count": 0,
      "outputs": []
    },
    {
      "cell_type": "markdown",
      "metadata": {
        "id": "AIYuMwebpw-0",
        "colab_type": "text"
      },
      "source": [
        "\n",
        "\n",
        "---\n",
        "\n"
      ]
    },
    {
      "cell_type": "code",
      "metadata": {
        "id": "sugH98D_qPe3",
        "colab_type": "code",
        "colab": {}
      },
      "source": [
        "def load_res_net(path):\n",
        "  with open(base_path+path, \"r\") as f:  \n",
        "    features = []\n",
        "    labels = []\n",
        "\n",
        "    for line in f.readlines():\n",
        "      comps = line.split(\",\")\n",
        "      features.append(comps[1:])\n",
        "      labels.append(int(comps[0].split(\"/\")[1].split(\".\")[0]))\n",
        "\n",
        "    features = np.array(features, dtype=float)\n",
        "    labels = np.array(labels, dtype=int)\n",
        "\n",
        "    return features, labels"
      ],
      "execution_count": 0,
      "outputs": []
    },
    {
      "cell_type": "markdown",
      "metadata": {
        "id": "90l-_2EoqM1B",
        "colab_type": "text"
      },
      "source": [
        "\n",
        "\n",
        "---\n",
        "\n"
      ]
    },
    {
      "cell_type": "code",
      "metadata": {
        "id": "e2HsaHLpof6n",
        "colab_type": "code",
        "colab": {}
      },
      "source": [
        "descr_file_contents_ftrain = np.load(base_path+\"np_descriptions_train.npy\")\n",
        "descr_file_contents_test = np.load(base_path+\"np_descriptions_test.npy\")\n",
        "\n",
        "tags_file_contents_ftrain = np.load(base_path+\"np_tags_train.npy\")\n",
        "tags_file_contents_test = np.load(base_path+\"np_tags_test.npy\")\n",
        "\n",
        "flattened_descr_ftrain, descr_labels_ftrain = flatten_descriptions(descr_file_contents_ftrain)\n",
        "flattened_descr_test, descr_labels_test = flatten_descriptions(descr_file_contents_test)"
      ],
      "execution_count": 0,
      "outputs": []
    },
    {
      "cell_type": "code",
      "metadata": {
        "id": "ooH9HbvvtPWA",
        "colab_type": "code",
        "colab": {}
      },
      "source": [
        "descr_vec_ftrain, descr_vectorizer_train = bag_nouns_vecs(flattened_descr_ftrain)\n",
        "descr_vec_test = descr_vectorizer_train.transform(preprocess_descr(flattened_descr_test)).toarray()\n",
        "\n",
        "tags_ftrain, tags_vectorizer_train = bag_nouns_vecs(preprocess_tags(tags_file_contents_ftrain))\n",
        "tags_test = tags_vectorizer_train.transform(preprocess_tags(tags_file_contents_test)).toarray()\n",
        "\n",
        "res_net_ftrain, res_net_labels_ftrain = load_res_net(\"features_train/features_resnet1000_train.csv\")\n",
        "res_net_test, res_net_labels_test = load_res_net(\"features_test/features_resnet1000_test.csv\")\n",
        "\n",
        "res_net_int_ftrain, _ = load_res_net(\"features_train/features_resnet1000intermediate_train.csv\")\n",
        "res_net_int_test, _ = load_res_net(\"features_test/features_resnet1000intermediate_test.csv\")\n",
        "\n",
        "res_net_comp_ftrain = np.concatenate((res_net_ftrain, res_net_int_ftrain), axis=1)\n",
        "res_net_comp_test = np.concatenate((res_net_test, res_net_int_test), axis=1)"
      ],
      "execution_count": 0,
      "outputs": []
    },
    {
      "cell_type": "code",
      "metadata": {
        "id": "5vFkrscZMwHe",
        "colab_type": "code",
        "outputId": "0aea61f1-8299-4730-850f-a5ff71ceaee9",
        "colab": {
          "base_uri": "https://localhost:8080/",
          "height": 68
        }
      },
      "source": [
        "print(descr_vec_ftrain.shape)\n",
        "print(tags_ftrain.shape)\n",
        "print(res_net_comp_ftrain.shape)"
      ],
      "execution_count": 0,
      "outputs": [
        {
          "output_type": "stream",
          "text": [
            "(50032, 4041)\n",
            "(10000, 87)\n",
            "(10000, 3048)\n"
          ],
          "name": "stdout"
        }
      ]
    },
    {
      "cell_type": "code",
      "metadata": {
        "id": "ukB3NU31nqpp",
        "colab_type": "code",
        "colab": {}
      },
      "source": [
        "def x_y_sets(Y_filter, X, Y):\n",
        "    Y_filter = set(Y_filter)\n",
        "    X_res, Y_res = [], []\n",
        "    \n",
        "    for x, y in zip(X, Y):\n",
        "      if y in Y_filter:\n",
        "        X_res.append(x)\n",
        "        Y_res.append(y)\n",
        "\n",
        "    return np.array(X_res), np.array(Y_res)"
      ],
      "execution_count": 0,
      "outputs": []
    },
    {
      "cell_type": "code",
      "metadata": {
        "id": "oQjBfoHmgfaa",
        "colab_type": "code",
        "colab": {}
      },
      "source": [
        "descr_vec_train, descr_vec_val, descr_labels_train, descr_labels_val = train_test_split(descr_vec_ftrain, \n",
        "                                                                                        descr_labels_ftrain,\n",
        "                                                                                        test_size=0.10)\n",
        "\n",
        "res_net_comp_train, res_net_labels_train = x_y_sets(descr_labels_train, res_net_comp_ftrain, res_net_labels_ftrain)\n",
        "res_net_comp_val, res_net_labels_val = x_y_sets(descr_labels_val, res_net_comp_ftrain, res_net_labels_ftrain)"
      ],
      "execution_count": 0,
      "outputs": []
    },
    {
      "cell_type": "code",
      "metadata": {
        "id": "ED6tpRO_M-Io",
        "colab_type": "code",
        "outputId": "6082a473-3efc-4d20-c96a-35c53f39a73d",
        "colab": {
          "base_uri": "https://localhost:8080/",
          "height": 85
        }
      },
      "source": [
        "print(descr_vec_train.shape)\n",
        "print(descr_vec_val.shape)\n",
        "\n",
        "print(res_net_comp_train.shape)\n",
        "print(res_net_comp_val.shape)"
      ],
      "execution_count": 0,
      "outputs": [
        {
          "output_type": "stream",
          "text": [
            "(45028, 4041)\n",
            "(5004, 4041)\n",
            "(10000, 3048)\n",
            "(4128, 3048)\n"
          ],
          "name": "stdout"
        }
      ]
    },
    {
      "cell_type": "markdown",
      "metadata": {
        "id": "pFgE166Y5xs_",
        "colab_type": "text"
      },
      "source": [
        "\n",
        "\n",
        "---\n",
        "\n"
      ]
    },
    {
      "cell_type": "markdown",
      "metadata": {
        "id": "zA7n7KgV6hYr",
        "colab_type": "text"
      },
      "source": [
        "#### Mapping res_net to desc_vec approach"
      ]
    },
    {
      "cell_type": "code",
      "metadata": {
        "id": "NhpLn-5p7jTQ",
        "colab_type": "code",
        "colab": {}
      },
      "source": [
        "mapping_X_train = []\n",
        "mapping_Y_train = descr_vec_train\n",
        "\n",
        "for label in descr_labels_train:\n",
        "  res_net_idx = np.where(res_net_labels_train == label)[0][0]\n",
        "  mapping_X_train.append(res_net_comp_train[res_net_idx])\n",
        "\n",
        "mapping_X_train = np.array(mapping_X_train)"
      ],
      "execution_count": 0,
      "outputs": []
    },
    {
      "cell_type": "code",
      "metadata": {
        "id": "pnuqH-_uPj_k",
        "colab_type": "code",
        "outputId": "236498f9-f322-4732-db93-f21daa007201",
        "colab": {
          "base_uri": "https://localhost:8080/",
          "height": 51
        }
      },
      "source": [
        "print(mapping_X_train.shape)\n",
        "print(mapping_Y_train.shape)"
      ],
      "execution_count": 0,
      "outputs": [
        {
          "output_type": "stream",
          "text": [
            "(54174, 3048)\n",
            "(54174, 4041)\n"
          ],
          "name": "stdout"
        }
      ]
    },
    {
      "cell_type": "code",
      "metadata": {
        "id": "tpL7RSCQ7Mci",
        "colab_type": "code",
        "colab": {}
      },
      "source": [
        "from keras.models import Sequential\n",
        "from keras.layers import Dense\n",
        "\n",
        "mapping_model = Sequential()\n",
        "mapping_model.add(Dense(128, input_dim=mapping_X_train.shape[1], activation='sigmoid'))\n",
        "mapping_model.add(Dense(128, activation='sigmoid'))\n",
        "mapping_model.add(Dense(64, activation='sigmoid'))\n",
        "mapping_model.add(Dense(mapping_Y_train.shape[1], activation='sigmoid'))\n",
        "\n",
        "mapping_model.compile(loss='mse', optimizer='adam', metrics=['mse'])"
      ],
      "execution_count": 0,
      "outputs": []
    },
    {
      "cell_type": "code",
      "metadata": {
        "id": "Sx5ree867fFa",
        "colab_type": "code",
        "outputId": "002da256-4df8-4854-a0bb-f571912dc26f",
        "colab": {
          "base_uri": "https://localhost:8080/",
          "height": 102
        }
      },
      "source": [
        "mapping_model.fit(mapping_X_train, mapping_Y_train, epochs=2, batch_size=10)"
      ],
      "execution_count": 0,
      "outputs": [
        {
          "output_type": "stream",
          "text": [
            "Epoch 1/2\n",
            "54174/54174 [==============================] - 38s 710us/step - loss: 0.0011 - mean_squared_error: 0.0011\n",
            "Epoch 2/2\n",
            "54174/54174 [==============================] - 37s 677us/step - loss: 1.9614e-04 - mean_squared_error: 1.9614e-04\n"
          ],
          "name": "stdout"
        },
        {
          "output_type": "execute_result",
          "data": {
            "text/plain": [
              "<keras.callbacks.History at 0x7f5266d60278>"
            ]
          },
          "metadata": {
            "tags": []
          },
          "execution_count": 96
        }
      ]
    },
    {
      "cell_type": "code",
      "metadata": {
        "id": "V3zKuMs2onDz",
        "colab_type": "code",
        "colab": {}
      },
      "source": [
        "mapped_test_vecs = mapping_model.predict(np.array(res_net_comp_val))"
      ],
      "execution_count": 0,
      "outputs": []
    },
    {
      "cell_type": "code",
      "metadata": {
        "id": "1139XQ1851MU",
        "colab_type": "code",
        "colab": {}
      },
      "source": [
        "def top_k_mapped_similiar(k, mapped_vecs, mapped_vecs_labels, test_vec, actual_label):\n",
        "    distances = np.linalg.norm(mapped_vecs-test_vec, axis=1)\n",
        "    #distances = 1-cosine_similarity(mapped_vecs, [test_vec])\n",
        "\n",
        "    sorted_indices = np.argsort(distances)\n",
        "    rank = np.where(np.array(mapped_vecs_labels)[sorted_indices] == actual_label)[0][0]\n",
        "\n",
        "    predicted = np.array(mapped_vecs_labels)[sorted_indices[:k]]\n",
        "    return predicted, rank"
      ],
      "execution_count": 0,
      "outputs": []
    },
    {
      "cell_type": "code",
      "metadata": {
        "id": "X2O11lhLu0Bd",
        "colab_type": "code",
        "colab": {}
      },
      "source": [
        "predicted = []\n",
        "actual = []\n",
        "ranks = []\n",
        "\n",
        "index_pool = list(range(descr_vec_val.shape[0]))\n",
        "\n",
        "for i in random.sample(index_pool, 1000):\n",
        "  descr_vec, label = descr_vec_val[i], descr_labels_val[i]\n",
        "\n",
        "  top_k, rank = top_k_mapped_similiar(20, mapped_test_vecs, res_net_labels_val, descr_vec, label)\n",
        "  predicted.append(label if label in top_k else top_k[0])\n",
        "  actual.append(label)\n",
        "  ranks.append(rank)"
      ],
      "execution_count": 0,
      "outputs": []
    },
    {
      "cell_type": "code",
      "metadata": {
        "id": "gCYVYz6YK6Fp",
        "colab_type": "code",
        "outputId": "af1e6244-2d4c-448a-b448-d7700ba9a40f",
        "colab": {
          "base_uri": "https://localhost:8080/",
          "height": 34
        }
      },
      "source": [
        "sklearn.metrics.accuracy_score(actual, predicted)"
      ],
      "execution_count": 0,
      "outputs": [
        {
          "output_type": "execute_result",
          "data": {
            "text/plain": [
              "0.007"
            ]
          },
          "metadata": {
            "tags": []
          },
          "execution_count": 100
        }
      ]
    },
    {
      "cell_type": "code",
      "metadata": {
        "id": "DxicVmwZCnar",
        "colab_type": "code",
        "outputId": "6da6b061-dcf5-49a8-c751-78baee5005ee",
        "colab": {
          "base_uri": "https://localhost:8080/",
          "height": 34
        }
      },
      "source": [
        "np.mean(ranks)"
      ],
      "execution_count": 0,
      "outputs": [
        {
          "output_type": "execute_result",
          "data": {
            "text/plain": [
              "2242.878"
            ]
          },
          "metadata": {
            "tags": []
          },
          "execution_count": 101
        }
      ]
    },
    {
      "cell_type": "markdown",
      "metadata": {
        "id": "YvsHGRACUnFx",
        "colab_type": "text"
      },
      "source": [
        "#### Similarity approach\n"
      ]
    },
    {
      "cell_type": "code",
      "metadata": {
        "id": "7zcqcQTxALNm",
        "colab_type": "code",
        "colab": {}
      },
      "source": [
        "def has_two_pos_entries_at_same_idx(v1, v2):\n",
        "  assert(len(v1) == len(v2))\n",
        "\n",
        "  for x1, x2 in zip(v1, v2):\n",
        "    if x1 > 0 and x2 > 0:\n",
        "      return True\n",
        "\n",
        "  return False"
      ],
      "execution_count": 0,
      "outputs": []
    },
    {
      "cell_type": "code",
      "metadata": {
        "id": "n5ahTNm0UyLZ",
        "colab_type": "code",
        "colab": {}
      },
      "source": [
        "sim_X_train = []\n",
        "sim_Y_train = []\n",
        "\n",
        "for descr_vec, label in zip(descr_vec_train, descr_labels_train):\n",
        "  res_net_idx = np.where(res_net_labels_train == label)[0][0]\n",
        "  comp_vec = np.concatenate((descr_vec, res_net_comp_train[res_net_idx]))\n",
        "  sim_X_train.append(comp_vec)\n",
        "  sim_Y_train.append(1)\n",
        "\n",
        "  acceptable = False\n",
        "\n",
        "  while not acceptable:\n",
        "    res_net_idx = random.randint(0, res_net_comp_train.shape[0]-1)\n",
        "    image_label = res_net_labels_train[res_net_idx]\n",
        "    descr_vec_2_idx = np.where(descr_labels_train == image_label)[0][0]\n",
        "    descr_vec_2 = descr_vec_train[descr_vec_2_idx]\n",
        "\n",
        "    if not has_two_pos_entries_at_same_idx(descr_vec, descr_vec_2):\n",
        "      comp_vec = np.concatenate((descr_vec, res_net_comp_train[res_net_idx]))\n",
        "      sim_X_train.append(comp_vec)\n",
        "      sim_Y_train.append(0)\n",
        "      acceptable = True\n",
        "\n",
        "sim_X_train = np.array(sim_X_train)\n",
        "sim_Y_train = np.array(sim_Y_train)"
      ],
      "execution_count": 0,
      "outputs": []
    },
    {
      "cell_type": "code",
      "metadata": {
        "id": "X3M64hSh1v_-",
        "colab_type": "code",
        "outputId": "09b7b9f8-d775-4491-8e61-14e40990000c",
        "colab": {
          "base_uri": "https://localhost:8080/",
          "height": 51
        }
      },
      "source": [
        "print(sim_X_train.shape)\n",
        "print(sim_Y_train.shape)"
      ],
      "execution_count": 0,
      "outputs": [
        {
          "output_type": "stream",
          "text": [
            "(90056, 7089)\n",
            "(90056,)\n"
          ],
          "name": "stdout"
        }
      ]
    },
    {
      "cell_type": "code",
      "metadata": {
        "id": "20ORqnXLUrXO",
        "colab_type": "code",
        "outputId": "42b03004-aa32-40e4-b4ae-b9d4622e921b",
        "colab": {
          "base_uri": "https://localhost:8080/",
          "height": 769
        }
      },
      "source": [
        "# from keras.models import Sequential\n",
        "# from keras.layers import Dense\n",
        "\n",
        "# sim_model = Sequential()\n",
        "# sim_model.add(Dense(3500, input_dim=sim_X_train.shape[1], activation='relu'))\n",
        "# sim_model.add(Dense(1, activation='sigmoid'))\n",
        "\n",
        "# sim_model.compile(loss='binary_crossentropy', optimizer='adam', metrics=['accuracy'])\n",
        "\n",
        "# sim_model.fit(sim_X_train, sim_Y_train, epochs=180, batch_size=32)"
      ],
      "execution_count": 0,
      "outputs": [
        {
          "output_type": "stream",
          "text": [
            "Epoch 1/180\n",
            "90056/90056 [==============================] - 216s 2ms/step - loss: 7.9692 - acc: 0.5000\n",
            "Epoch 2/180\n",
            "90056/90056 [==============================] - 214s 2ms/step - loss: 7.9712 - acc: 0.5000\n",
            "Epoch 3/180\n",
            "90056/90056 [==============================] - 214s 2ms/step - loss: 7.9712 - acc: 0.5000\n",
            "Epoch 4/180\n",
            "90056/90056 [==============================] - 215s 2ms/step - loss: 7.9712 - acc: 0.5000\n",
            "Epoch 5/180\n",
            "90056/90056 [==============================] - 215s 2ms/step - loss: 7.9712 - acc: 0.5000\n",
            "Epoch 6/180\n",
            "90056/90056 [==============================] - 214s 2ms/step - loss: 7.9712 - acc: 0.5000\n",
            "Epoch 7/180\n",
            "90056/90056 [==============================] - 217s 2ms/step - loss: 7.9712 - acc: 0.5000\n",
            "Epoch 8/180\n",
            "90056/90056 [==============================] - 223s 2ms/step - loss: 7.9712 - acc: 0.5000\n",
            "Epoch 9/180\n",
            "90056/90056 [==============================] - 218s 2ms/step - loss: 7.9712 - acc: 0.5000\n",
            "Epoch 10/180\n",
            "90056/90056 [==============================] - 220s 2ms/step - loss: 7.9712 - acc: 0.5000\n",
            "Epoch 11/180\n",
            "90056/90056 [==============================] - 222s 2ms/step - loss: 7.9712 - acc: 0.5000\n",
            "Epoch 12/180\n",
            "18496/90056 [=====>........................] - ETA: 2:50 - loss: 7.9669 - acc: 0.5003"
          ],
          "name": "stdout"
        },
        {
          "output_type": "error",
          "ename": "KeyboardInterrupt",
          "evalue": "ignored",
          "traceback": [
            "\u001b[0;31m---------------------------------------------------------------------------\u001b[0m",
            "\u001b[0;31mKeyboardInterrupt\u001b[0m                         Traceback (most recent call last)",
            "\u001b[0;32m<ipython-input-69-2ffad55f2c51>\u001b[0m in \u001b[0;36m<module>\u001b[0;34m()\u001b[0m\n\u001b[1;32m      8\u001b[0m \u001b[0msim_model\u001b[0m\u001b[0;34m.\u001b[0m\u001b[0mcompile\u001b[0m\u001b[0;34m(\u001b[0m\u001b[0mloss\u001b[0m\u001b[0;34m=\u001b[0m\u001b[0;34m'binary_crossentropy'\u001b[0m\u001b[0;34m,\u001b[0m \u001b[0moptimizer\u001b[0m\u001b[0;34m=\u001b[0m\u001b[0;34m'adam'\u001b[0m\u001b[0;34m,\u001b[0m \u001b[0mmetrics\u001b[0m\u001b[0;34m=\u001b[0m\u001b[0;34m[\u001b[0m\u001b[0;34m'accuracy'\u001b[0m\u001b[0;34m]\u001b[0m\u001b[0;34m)\u001b[0m\u001b[0;34m\u001b[0m\u001b[0;34m\u001b[0m\u001b[0m\n\u001b[1;32m      9\u001b[0m \u001b[0;34m\u001b[0m\u001b[0m\n\u001b[0;32m---> 10\u001b[0;31m \u001b[0msim_model\u001b[0m\u001b[0;34m.\u001b[0m\u001b[0mfit\u001b[0m\u001b[0;34m(\u001b[0m\u001b[0msim_X_train\u001b[0m\u001b[0;34m,\u001b[0m \u001b[0msim_Y_train\u001b[0m\u001b[0;34m,\u001b[0m \u001b[0mepochs\u001b[0m\u001b[0;34m=\u001b[0m\u001b[0;36m180\u001b[0m\u001b[0;34m,\u001b[0m \u001b[0mbatch_size\u001b[0m\u001b[0;34m=\u001b[0m\u001b[0;36m32\u001b[0m\u001b[0;34m)\u001b[0m\u001b[0;34m\u001b[0m\u001b[0;34m\u001b[0m\u001b[0m\n\u001b[0m",
            "\u001b[0;32m/usr/local/lib/python3.6/dist-packages/keras/engine/training.py\u001b[0m in \u001b[0;36mfit\u001b[0;34m(self, x, y, batch_size, epochs, verbose, callbacks, validation_split, validation_data, shuffle, class_weight, sample_weight, initial_epoch, steps_per_epoch, validation_steps, validation_freq, max_queue_size, workers, use_multiprocessing, **kwargs)\u001b[0m\n\u001b[1;32m   1176\u001b[0m                                         \u001b[0msteps_per_epoch\u001b[0m\u001b[0;34m=\u001b[0m\u001b[0msteps_per_epoch\u001b[0m\u001b[0;34m,\u001b[0m\u001b[0;34m\u001b[0m\u001b[0;34m\u001b[0m\u001b[0m\n\u001b[1;32m   1177\u001b[0m                                         \u001b[0mvalidation_steps\u001b[0m\u001b[0;34m=\u001b[0m\u001b[0mvalidation_steps\u001b[0m\u001b[0;34m,\u001b[0m\u001b[0;34m\u001b[0m\u001b[0;34m\u001b[0m\u001b[0m\n\u001b[0;32m-> 1178\u001b[0;31m                                         validation_freq=validation_freq)\n\u001b[0m\u001b[1;32m   1179\u001b[0m \u001b[0;34m\u001b[0m\u001b[0m\n\u001b[1;32m   1180\u001b[0m     def evaluate(self,\n",
            "\u001b[0;32m/usr/local/lib/python3.6/dist-packages/keras/engine/training_arrays.py\u001b[0m in \u001b[0;36mfit_loop\u001b[0;34m(model, fit_function, fit_inputs, out_labels, batch_size, epochs, verbose, callbacks, val_function, val_inputs, shuffle, callback_metrics, initial_epoch, steps_per_epoch, validation_steps, validation_freq)\u001b[0m\n\u001b[1;32m    202\u001b[0m                     \u001b[0mins_batch\u001b[0m\u001b[0;34m[\u001b[0m\u001b[0mi\u001b[0m\u001b[0;34m]\u001b[0m \u001b[0;34m=\u001b[0m \u001b[0mins_batch\u001b[0m\u001b[0;34m[\u001b[0m\u001b[0mi\u001b[0m\u001b[0;34m]\u001b[0m\u001b[0;34m.\u001b[0m\u001b[0mtoarray\u001b[0m\u001b[0;34m(\u001b[0m\u001b[0;34m)\u001b[0m\u001b[0;34m\u001b[0m\u001b[0;34m\u001b[0m\u001b[0m\n\u001b[1;32m    203\u001b[0m \u001b[0;34m\u001b[0m\u001b[0m\n\u001b[0;32m--> 204\u001b[0;31m                 \u001b[0mouts\u001b[0m \u001b[0;34m=\u001b[0m \u001b[0mfit_function\u001b[0m\u001b[0;34m(\u001b[0m\u001b[0mins_batch\u001b[0m\u001b[0;34m)\u001b[0m\u001b[0;34m\u001b[0m\u001b[0;34m\u001b[0m\u001b[0m\n\u001b[0m\u001b[1;32m    205\u001b[0m                 \u001b[0mouts\u001b[0m \u001b[0;34m=\u001b[0m \u001b[0mto_list\u001b[0m\u001b[0;34m(\u001b[0m\u001b[0mouts\u001b[0m\u001b[0;34m)\u001b[0m\u001b[0;34m\u001b[0m\u001b[0;34m\u001b[0m\u001b[0m\n\u001b[1;32m    206\u001b[0m                 \u001b[0;32mfor\u001b[0m \u001b[0ml\u001b[0m\u001b[0;34m,\u001b[0m \u001b[0mo\u001b[0m \u001b[0;32min\u001b[0m \u001b[0mzip\u001b[0m\u001b[0;34m(\u001b[0m\u001b[0mout_labels\u001b[0m\u001b[0;34m,\u001b[0m \u001b[0mouts\u001b[0m\u001b[0;34m)\u001b[0m\u001b[0;34m:\u001b[0m\u001b[0;34m\u001b[0m\u001b[0;34m\u001b[0m\u001b[0m\n",
            "\u001b[0;32m/usr/local/lib/python3.6/dist-packages/keras/backend/tensorflow_backend.py\u001b[0m in \u001b[0;36m__call__\u001b[0;34m(self, inputs)\u001b[0m\n\u001b[1;32m   2977\u001b[0m                     \u001b[0;32mreturn\u001b[0m \u001b[0mself\u001b[0m\u001b[0;34m.\u001b[0m\u001b[0m_legacy_call\u001b[0m\u001b[0;34m(\u001b[0m\u001b[0minputs\u001b[0m\u001b[0;34m)\u001b[0m\u001b[0;34m\u001b[0m\u001b[0;34m\u001b[0m\u001b[0m\n\u001b[1;32m   2978\u001b[0m \u001b[0;34m\u001b[0m\u001b[0m\n\u001b[0;32m-> 2979\u001b[0;31m             \u001b[0;32mreturn\u001b[0m \u001b[0mself\u001b[0m\u001b[0;34m.\u001b[0m\u001b[0m_call\u001b[0m\u001b[0;34m(\u001b[0m\u001b[0minputs\u001b[0m\u001b[0;34m)\u001b[0m\u001b[0;34m\u001b[0m\u001b[0;34m\u001b[0m\u001b[0m\n\u001b[0m\u001b[1;32m   2980\u001b[0m         \u001b[0;32melse\u001b[0m\u001b[0;34m:\u001b[0m\u001b[0;34m\u001b[0m\u001b[0;34m\u001b[0m\u001b[0m\n\u001b[1;32m   2981\u001b[0m             \u001b[0;32mif\u001b[0m \u001b[0mpy_any\u001b[0m\u001b[0;34m(\u001b[0m\u001b[0mis_tensor\u001b[0m\u001b[0;34m(\u001b[0m\u001b[0mx\u001b[0m\u001b[0;34m)\u001b[0m \u001b[0;32mfor\u001b[0m \u001b[0mx\u001b[0m \u001b[0;32min\u001b[0m \u001b[0minputs\u001b[0m\u001b[0;34m)\u001b[0m\u001b[0;34m:\u001b[0m\u001b[0;34m\u001b[0m\u001b[0;34m\u001b[0m\u001b[0m\n",
            "\u001b[0;32m/usr/local/lib/python3.6/dist-packages/keras/backend/tensorflow_backend.py\u001b[0m in \u001b[0;36m_call\u001b[0;34m(self, inputs)\u001b[0m\n\u001b[1;32m   2935\u001b[0m             \u001b[0mfetched\u001b[0m \u001b[0;34m=\u001b[0m \u001b[0mself\u001b[0m\u001b[0;34m.\u001b[0m\u001b[0m_callable_fn\u001b[0m\u001b[0;34m(\u001b[0m\u001b[0;34m*\u001b[0m\u001b[0marray_vals\u001b[0m\u001b[0;34m,\u001b[0m \u001b[0mrun_metadata\u001b[0m\u001b[0;34m=\u001b[0m\u001b[0mself\u001b[0m\u001b[0;34m.\u001b[0m\u001b[0mrun_metadata\u001b[0m\u001b[0;34m)\u001b[0m\u001b[0;34m\u001b[0m\u001b[0;34m\u001b[0m\u001b[0m\n\u001b[1;32m   2936\u001b[0m         \u001b[0;32melse\u001b[0m\u001b[0;34m:\u001b[0m\u001b[0;34m\u001b[0m\u001b[0;34m\u001b[0m\u001b[0m\n\u001b[0;32m-> 2937\u001b[0;31m             \u001b[0mfetched\u001b[0m \u001b[0;34m=\u001b[0m \u001b[0mself\u001b[0m\u001b[0;34m.\u001b[0m\u001b[0m_callable_fn\u001b[0m\u001b[0;34m(\u001b[0m\u001b[0;34m*\u001b[0m\u001b[0marray_vals\u001b[0m\u001b[0;34m)\u001b[0m\u001b[0;34m\u001b[0m\u001b[0;34m\u001b[0m\u001b[0m\n\u001b[0m\u001b[1;32m   2938\u001b[0m         \u001b[0;32mreturn\u001b[0m \u001b[0mfetched\u001b[0m\u001b[0;34m[\u001b[0m\u001b[0;34m:\u001b[0m\u001b[0mlen\u001b[0m\u001b[0;34m(\u001b[0m\u001b[0mself\u001b[0m\u001b[0;34m.\u001b[0m\u001b[0moutputs\u001b[0m\u001b[0;34m)\u001b[0m\u001b[0;34m]\u001b[0m\u001b[0;34m\u001b[0m\u001b[0;34m\u001b[0m\u001b[0m\n\u001b[1;32m   2939\u001b[0m \u001b[0;34m\u001b[0m\u001b[0m\n",
            "\u001b[0;32m/usr/local/lib/python3.6/dist-packages/tensorflow_core/python/client/session.py\u001b[0m in \u001b[0;36m__call__\u001b[0;34m(self, *args, **kwargs)\u001b[0m\n\u001b[1;32m   1470\u001b[0m         ret = tf_session.TF_SessionRunCallable(self._session._session,\n\u001b[1;32m   1471\u001b[0m                                                \u001b[0mself\u001b[0m\u001b[0;34m.\u001b[0m\u001b[0m_handle\u001b[0m\u001b[0;34m,\u001b[0m \u001b[0margs\u001b[0m\u001b[0;34m,\u001b[0m\u001b[0;34m\u001b[0m\u001b[0;34m\u001b[0m\u001b[0m\n\u001b[0;32m-> 1472\u001b[0;31m                                                run_metadata_ptr)\n\u001b[0m\u001b[1;32m   1473\u001b[0m         \u001b[0;32mif\u001b[0m \u001b[0mrun_metadata\u001b[0m\u001b[0;34m:\u001b[0m\u001b[0;34m\u001b[0m\u001b[0;34m\u001b[0m\u001b[0m\n\u001b[1;32m   1474\u001b[0m           \u001b[0mproto_data\u001b[0m \u001b[0;34m=\u001b[0m \u001b[0mtf_session\u001b[0m\u001b[0;34m.\u001b[0m\u001b[0mTF_GetBuffer\u001b[0m\u001b[0;34m(\u001b[0m\u001b[0mrun_metadata_ptr\u001b[0m\u001b[0;34m)\u001b[0m\u001b[0;34m\u001b[0m\u001b[0;34m\u001b[0m\u001b[0m\n",
            "\u001b[0;31mKeyboardInterrupt\u001b[0m: "
          ]
        }
      ]
    },
    {
      "cell_type": "code",
      "metadata": {
        "id": "9N1kphGMOiPg",
        "colab_type": "code",
        "outputId": "19f5328a-f1fb-4456-9b10-18612117b201",
        "colab": {
          "base_uri": "https://localhost:8080/",
          "height": 190
        }
      },
      "source": [
        "#sim_model = RandomForestClassifier()\n",
        "#sim_model.fit(sim_X_train, sim_Y_train)"
      ],
      "execution_count": 0,
      "outputs": [
        {
          "output_type": "stream",
          "text": [
            "/usr/local/lib/python3.6/dist-packages/sklearn/ensemble/forest.py:245: FutureWarning: The default value of n_estimators will change from 10 in version 0.20 to 100 in 0.22.\n",
            "  \"10 in version 0.20 to 100 in 0.22.\", FutureWarning)\n"
          ],
          "name": "stderr"
        },
        {
          "output_type": "execute_result",
          "data": {
            "text/plain": [
              "RandomForestClassifier(bootstrap=True, class_weight=None, criterion='gini',\n",
              "                       max_depth=None, max_features='auto', max_leaf_nodes=None,\n",
              "                       min_impurity_decrease=0.0, min_impurity_split=None,\n",
              "                       min_samples_leaf=1, min_samples_split=2,\n",
              "                       min_weight_fraction_leaf=0.0, n_estimators=10,\n",
              "                       n_jobs=None, oob_score=False, random_state=None,\n",
              "                       verbose=0, warm_start=False)"
            ]
          },
          "metadata": {
            "tags": []
          },
          "execution_count": 50
        }
      ]
    },
    {
      "cell_type": "code",
      "metadata": {
        "id": "J3LZXs5F8WAP",
        "colab_type": "code",
        "colab": {}
      },
      "source": [
        "def concatenate_per_row(A, B):\n",
        "    m1,n1 = A.shape\n",
        "    m2,n2 = B.shape\n",
        "\n",
        "    out = np.zeros((m1,m2,n1+n2),dtype=A.dtype)\n",
        "    out[:,:,:n1] = A[:,None,:]\n",
        "    out[:,:,n1:] = B\n",
        "    return out.reshape(m1*m2,-1)"
      ],
      "execution_count": 0,
      "outputs": []
    },
    {
      "cell_type": "code",
      "metadata": {
        "id": "ZwcIL67nPR6u",
        "colab_type": "code",
        "colab": {}
      },
      "source": [
        "def top_k_similiar(k, test_descr_vec, test_vecs, test_labels, actual_label):\n",
        "    vecs = [np.concatenate((test_descr_vec, test_vecs[i])) for i in range(test_vecs.shape[0])]\n",
        "    #vecs = concatenate_per_row(np.array([test_descr_vec]), res_net_comp_train)\n",
        "\n",
        "    similarities = sim_model.predict(np.array(vecs))\n",
        "\n",
        "    if k is None: k = test_labels.shape[0]\n",
        "\n",
        "    sorted_indices = np.argsort(similarities)\n",
        "\n",
        "    rank = test_vecs.shape[0]-np.where(np.array(test_labels)[sorted_indices] == actual_label)[0][0]\n",
        "    predicted = np.array(test_labels)[sorted_indices[-k:]]\n",
        "    return predicted, rank"
      ],
      "execution_count": 0,
      "outputs": []
    },
    {
      "cell_type": "code",
      "metadata": {
        "id": "1f2QsXQSWGJI",
        "colab_type": "code",
        "colab": {}
      },
      "source": [
        "predicted = []\n",
        "actual = []\n",
        "ranks = []\n",
        "\n",
        "index_pool = list(range(descr_vec_val.shape[0]))\n",
        "\n",
        "for i in random.sample(index_pool, 100):\n",
        "  descr_vec, label = descr_vec_val[i], descr_labels_val[i]\n",
        "\n",
        "  top_k, rank = top_k_similiar(100, descr_vec, res_net_comp_val, res_net_labels_val, label)\n",
        "  predicted.append(label if label in top_k else top_k[0])\n",
        "  actual.append(label)\n",
        "  ranks.append(rank)"
      ],
      "execution_count": 0,
      "outputs": []
    },
    {
      "cell_type": "code",
      "metadata": {
        "id": "dEPU-XQGWpon",
        "colab_type": "code",
        "outputId": "ad356647-3852-4dcc-cb5d-111a3cce1271",
        "colab": {
          "base_uri": "https://localhost:8080/",
          "height": 34
        }
      },
      "source": [
        "sklearn.metrics.accuracy_score(actual, predicted)"
      ],
      "execution_count": 0,
      "outputs": [
        {
          "output_type": "execute_result",
          "data": {
            "text/plain": [
              "0.09"
            ]
          },
          "metadata": {
            "tags": []
          },
          "execution_count": 54
        }
      ]
    },
    {
      "cell_type": "code",
      "metadata": {
        "id": "irsrJGC38QXl",
        "colab_type": "code",
        "outputId": "68409390-71b2-41d0-a364-05a30c19b6b1",
        "colab": {
          "base_uri": "https://localhost:8080/",
          "height": 34
        }
      },
      "source": [
        "np.mean(ranks)"
      ],
      "execution_count": 0,
      "outputs": [
        {
          "output_type": "execute_result",
          "data": {
            "text/plain": [
              "1123.15"
            ]
          },
          "metadata": {
            "tags": []
          },
          "execution_count": 55
        }
      ]
    },
    {
      "cell_type": "code",
      "metadata": {
        "id": "WEZ-LtNuMIJg",
        "colab_type": "code",
        "colab": {}
      },
      "source": [
        ""
      ],
      "execution_count": 0,
      "outputs": []
    }
  ]
}