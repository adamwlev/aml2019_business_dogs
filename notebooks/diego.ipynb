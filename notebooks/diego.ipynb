{
  "nbformat": 4,
  "nbformat_minor": 0,
  "metadata": {
    "colab": {
      "name": "final.ipynb",
      "provenance": [],
      "collapsed_sections": []
    },
    "kernelspec": {
      "name": "python3",
      "display_name": "Python 3"
    },
    "accelerator": "TPU"
  },
  "cells": [
    {
      "cell_type": "code",
      "metadata": {
        "id": "arlTLNxH0Nor",
        "colab_type": "code",
        "outputId": "4b81fdc5-d888-40a1-b653-d0972d9cd9d1",
        "colab": {
          "base_uri": "https://localhost:8080/",
          "height": 170
        }
      },
      "source": [
        "import numpy as np\n",
        "import sklearn\n",
        "import nltk\n",
        "from textblob import TextBlob\n",
        "from sklearn.feature_extraction.text import CountVectorizer\n",
        "from sklearn.feature_extraction.text import TfidfVectorizer\n",
        "import random\n",
        "from sklearn.metrics.pairwise import cosine_similarity\n",
        "\n",
        "nltk.download('punkt')\n",
        "nltk.download('averaged_perceptron_tagger')\n",
        "nltk.download('brown')"
      ],
      "execution_count": 167,
      "outputs": [
        {
          "output_type": "stream",
          "text": [
            "[nltk_data] Downloading package punkt to /root/nltk_data...\n",
            "[nltk_data]   Package punkt is already up-to-date!\n",
            "[nltk_data] Downloading package averaged_perceptron_tagger to\n",
            "[nltk_data]     /root/nltk_data...\n",
            "[nltk_data]   Package averaged_perceptron_tagger is already up-to-\n",
            "[nltk_data]       date!\n",
            "[nltk_data] Downloading package brown to /root/nltk_data...\n",
            "[nltk_data]   Package brown is already up-to-date!\n"
          ],
          "name": "stdout"
        },
        {
          "output_type": "execute_result",
          "data": {
            "text/plain": [
              "True"
            ]
          },
          "metadata": {
            "tags": []
          },
          "execution_count": 167
        }
      ]
    },
    {
      "cell_type": "code",
      "metadata": {
        "id": "N47IOkcNJs7N",
        "colab_type": "code",
        "outputId": "cc578914-9ae7-4d15-d57a-3d36308ec023",
        "colab": {
          "base_uri": "https://localhost:8080/",
          "height": 54
        }
      },
      "source": [
        "from google.colab import drive\n",
        "drive.mount('/content/drive')"
      ],
      "execution_count": 168,
      "outputs": [
        {
          "output_type": "stream",
          "text": [
            "Drive already mounted at /content/drive; to attempt to forcibly remount, call drive.mount(\"/content/drive\", force_remount=True).\n"
          ],
          "name": "stdout"
        }
      ]
    },
    {
      "cell_type": "code",
      "metadata": {
        "id": "izMZ_3XrJzEA",
        "colab_type": "code",
        "colab": {}
      },
      "source": [
        "base_path = \"drive/My Drive/AML/Final/data/\""
      ],
      "execution_count": 0,
      "outputs": []
    },
    {
      "cell_type": "code",
      "metadata": {
        "id": "avU6rkbc-hgl",
        "colab_type": "code",
        "colab": {}
      },
      "source": [
        "s = \"The skateboarder is putting on a show using the picnic table as his stage. An apple, picnic.\""
      ],
      "execution_count": 0,
      "outputs": []
    },
    {
      "cell_type": "code",
      "metadata": {
        "id": "6MH6RzPF8Yf0",
        "colab_type": "code",
        "colab": {}
      },
      "source": [
        "def noun_phrases(text):\n",
        "  blob = TextBlob(text)\n",
        "  nouns = [noun[0] for noun in filter(lambda x:x[1]=='NN', blob.tags)]\n",
        "  noun_phrases = blob.noun_phrases\n",
        "\n",
        "  return set(nouns+noun_phrases)"
      ],
      "execution_count": 0,
      "outputs": []
    },
    {
      "cell_type": "code",
      "metadata": {
        "id": "IRyc2yxB-r46",
        "colab_type": "code",
        "outputId": "ad8743ba-8b11-4e54-8cd9-e35e4e4b169e",
        "colab": {
          "base_uri": "https://localhost:8080/",
          "height": 34
        }
      },
      "source": [
        "noun_phrases(s)"
      ],
      "execution_count": 172,
      "outputs": [
        {
          "output_type": "execute_result",
          "data": {
            "text/plain": [
              "{'apple', 'picnic', 'picnic table', 'show', 'skateboarder', 'stage', 'table'}"
            ]
          },
          "metadata": {
            "tags": []
          },
          "execution_count": 172
        }
      ]
    },
    {
      "cell_type": "code",
      "metadata": {
        "id": "DqaTN8qUezgp",
        "colab_type": "code",
        "colab": {}
      },
      "source": [
        "train_description_file_contents = np.load(base_path+\"np_descriptions_train.npy\")\n",
        "test_description_file_contents = np.load(base_path+\"np_descriptions_test.npy\")\n",
        "\n",
        "train_tags_file_contents = np.load(base_path+\"np_tags_train.npy\")\n",
        "test_tags_file_contents = np.load(base_path+\"np_tags_test.npy\")"
      ],
      "execution_count": 0,
      "outputs": []
    },
    {
      "cell_type": "code",
      "metadata": {
        "id": "53_gG180Y0EW",
        "colab_type": "code",
        "colab": {
          "base_uri": "https://localhost:8080/",
          "height": 54
        },
        "outputId": "de3740c9-5201-4671-d704-59752d5ca993"
      },
      "source": [
        "train_tags_file_contents[0]"
      ],
      "execution_count": 174,
      "outputs": [
        {
          "output_type": "execute_result",
          "data": {
            "text/plain": [
              "'vehicle:airplane\\noutdoor:bench\\nsports:skateboard\\nperson:person\\nvehicle:truck\\naccessory:backpack\\naccessory:handbag\\nfurniture:dining table\\n'"
            ]
          },
          "metadata": {
            "tags": []
          },
          "execution_count": 174
        }
      ]
    },
    {
      "cell_type": "code",
      "metadata": {
        "id": "amYei3ZgFENH",
        "colab_type": "code",
        "colab": {}
      },
      "source": [
        "def process_descriptions(descriptions_file_contents):\n",
        "  comp_descriptions = []\n",
        "\n",
        "  for i, description_set in enumerate(descriptions_file_contents): \n",
        "      compound_description = description_set.replace(\"\\n\", \" \")\n",
        "      nouns = noun_phrases(compound_description)\n",
        "\n",
        "      noun_only_comp_description = [word for word in compound_description.split(\" \") if word in nouns]\n",
        "      comp_descriptions.append(\" \".join(noun_only_comp_description))\n",
        "\n",
        "  vectorizer = TfidfVectorizer(stop_words=\"english\")\n",
        "  freq = vectorizer.fit_transform(comp_descriptions)\n",
        "\n",
        "  return freq, vectorizer"
      ],
      "execution_count": 0,
      "outputs": []
    },
    {
      "cell_type": "code",
      "metadata": {
        "id": "hXeASL3kk6qq",
        "colab_type": "code",
        "colab": {}
      },
      "source": [
        "def process_indiv_descriptions(descriptions_file_contents):\n",
        "  descriptions = []\n",
        "  labels = []\n",
        "\n",
        "  for i, description_set in enumerate(descriptions_file_contents): \n",
        "    for description in description_set.split(\"\\n\"):\n",
        "      nouns = noun_phrases(description)\n",
        "\n",
        "      noun_only_description = [word for word in description.split(\" \") if word in nouns]\n",
        "      descriptions.append(\" \".join(noun_only_description))\n",
        "      labels.append(i)\n",
        "\n",
        "  vectorizer = TfidfVectorizer(stop_words=\"english\")\n",
        "  freq = vectorizer.fit_transform(descriptions)\n",
        "\n",
        "  return freq.toarray(), descriptions, labels, vectorizer"
      ],
      "execution_count": 0,
      "outputs": []
    },
    {
      "cell_type": "code",
      "metadata": {
        "id": "gIIBYOsxYI-M",
        "colab_type": "code",
        "colab": {}
      },
      "source": [
        "def process_tags(tags_file_contents):\n",
        "  tags = []\n",
        "\n",
        "  for i, tag_set in enumerate(tags_file_contents):\n",
        "    compound_tag = [tag.split(\":\")[1] if \":\" in tag else \"\" for tag in tag_set.split(\"\\n\")]\n",
        "    tags.append(\" \".join(compound_tag))\n",
        "\n",
        "  vectorizer = CountVectorizer()\n",
        "  counts = vectorizer.fit_transform(tags)\n",
        "  return counts, tags, vectorizer"
      ],
      "execution_count": 0,
      "outputs": []
    },
    {
      "cell_type": "code",
      "metadata": {
        "id": "O6I0p5BEvKg2",
        "colab_type": "code",
        "colab": {}
      },
      "source": [
        "def similarity_score(s1, s2):\n",
        "  return len(set(s1.split(\" \")).intersection(set(s2.split(\" \"))))"
      ],
      "execution_count": 0,
      "outputs": []
    },
    {
      "cell_type": "code",
      "metadata": {
        "id": "hIVZuaZBF2bm",
        "colab_type": "code",
        "colab": {}
      },
      "source": [
        "desc_bagw_train, descriptions_train, desc_labels_train, desc_vectorizer_train = process_indiv_descriptions(train_description_file_contents)\n",
        "\n",
        "tags_bagw_train, tags_train, tags_vectorizer_train = process_tags(train_tags_file_contents)"
      ],
      "execution_count": 0,
      "outputs": []
    },
    {
      "cell_type": "code",
      "metadata": {
        "id": "6-NJfzXnBE_Z",
        "colab_type": "code",
        "colab": {}
      },
      "source": [
        "def load_res_net(path):\n",
        "  with open(base_path+path, \"r\") as f:  \n",
        "    train = []\n",
        "    labels = []\n",
        "\n",
        "    for line in f.readlines():\n",
        "      comps = line.split(\",\")\n",
        "      train.append(comps[1:])\n",
        "      labels.append(int(comps[0].split(\"/\")[1].split(\".\")[0]))\n",
        "\n",
        "    train = np.array(train, dtype=float)\n",
        "    labels = np.array(labels, dtype=int)\n",
        "\n",
        "    return train, labels"
      ],
      "execution_count": 0,
      "outputs": []
    },
    {
      "cell_type": "code",
      "metadata": {
        "id": "bP5ww08kOJgU",
        "colab_type": "code",
        "colab": {}
      },
      "source": [
        "res_net_train, res_net_labels_train = load_res_net(\"features_train/features_resnet1000_train.csv\")\n",
        "res_net_test, res_net_labels_test = load_res_net(\"features_test/features_resnet1000_test.csv\")"
      ],
      "execution_count": 0,
      "outputs": []
    },
    {
      "cell_type": "code",
      "metadata": {
        "id": "stY5B_cLCq4g",
        "colab_type": "code",
        "colab": {
          "base_uri": "https://localhost:8080/",
          "height": 34
        },
        "outputId": "be463fff-f79b-46c9-d54a-a0ac110b5983"
      },
      "source": [
        "res_net_labels_train[0]"
      ],
      "execution_count": 182,
      "outputs": [
        {
          "output_type": "execute_result",
          "data": {
            "text/plain": [
              "5373"
            ]
          },
          "metadata": {
            "tags": []
          },
          "execution_count": 182
        }
      ]
    },
    {
      "cell_type": "code",
      "metadata": {
        "id": "9Z_sdkj-ATjm",
        "colab_type": "code",
        "colab": {}
      },
      "source": [
        "mapping_X_train = []\n",
        "mapping_Y_train = desc_bagw_train\n",
        "\n",
        "for label in desc_labels_train:\n",
        "  res_net_idx = np.argwhere(res_net_labels_train == label)[0][0]\n",
        "  mapping_X_train.append(res_net_train[res_net_idx])\n",
        "\n",
        "mapping_X_train = np.array(mapping_X_train)"
      ],
      "execution_count": 0,
      "outputs": []
    },
    {
      "cell_type": "code",
      "metadata": {
        "id": "fjq1I0NmBnsI",
        "colab_type": "code",
        "colab": {}
      },
      "source": [
        "# from sklearn.ensemble import RandomForestRegressor\n",
        "\n",
        "# ranforest = RandomForestRegressor(n_estimators=500, max_depth=18)\n",
        "# ranforest.fit(mapping_X_train, mapping_Y_train)"
      ],
      "execution_count": 0,
      "outputs": []
    },
    {
      "cell_type": "code",
      "metadata": {
        "id": "uN-sSv-zpgHz",
        "colab_type": "code",
        "colab": {}
      },
      "source": [
        "from keras.models import Sequential\n",
        "from keras.layers import Dense\n",
        "\n",
        "mapping_model = Sequential()\n",
        "mapping_model.add(Dense(128, input_dim=mapping_X_train.shape[1], activation='sigmoid'))\n",
        "mapping_model.add(Dense(128, activation='sigmoid'))\n",
        "mapping_model.add(Dense(64, activation='sigmoid'))\n",
        "mapping_model.add(Dense(mapping_Y_train.shape[1], activation='sigmoid'))\n",
        "\n",
        "mapping_model.compile(loss='mse', optimizer='adam', metrics=['mse'])"
      ],
      "execution_count": 0,
      "outputs": []
    },
    {
      "cell_type": "code",
      "metadata": {
        "id": "LPVtUxLpFJ3a",
        "colab_type": "code",
        "colab": {}
      },
      "source": [
        "#mapping_model.fit(mapping_X_train, mapping_Y_train, epochs=1, batch_size=10)"
      ],
      "execution_count": 0,
      "outputs": []
    },
    {
      "cell_type": "code",
      "metadata": {
        "id": "oDMW9qQTr044",
        "colab_type": "code",
        "colab": {}
      },
      "source": [
        "def top_k_similiar(k, mapped_vecs, mapped_vecs_labels, test_vec):\n",
        "    distances = np.linalg.norm(mapped_vecs-test_vec)\n",
        "    sorted_indices = np.argsort(distances)\n",
        "    predicted = mapped_vecs_labels[sorted_indices[:k]]\n",
        "    return predicted"
      ],
      "execution_count": 0,
      "outputs": []
    },
    {
      "cell_type": "code",
      "metadata": {
        "id": "ptqNY4YyVKuj",
        "colab_type": "code",
        "colab": {}
      },
      "source": [
        "desc_bagw_test, descriptions_test, desc_labels_test, _ = process_indiv_descriptions(test_description_file_contents)\n",
        "#desc_bagw_test = desc_vectorizer_train.transform(descriptions_test)"
      ],
      "execution_count": 0,
      "outputs": []
    },
    {
      "cell_type": "code",
      "metadata": {
        "id": "9Xo8PCeCoLTz",
        "colab_type": "code",
        "colab": {}
      },
      "source": [
        "mapped_test_vecs = desc_bagw_test #mapping_model.predict(res_net_test)"
      ],
      "execution_count": 0,
      "outputs": []
    },
    {
      "cell_type": "code",
      "metadata": {
        "id": "k7elokAQ1my6",
        "colab_type": "code",
        "colab": {
          "base_uri": "https://localhost:8080/",
          "height": 34
        },
        "outputId": "ad814e42-83de-4430-990d-89ddfed53443"
      },
      "source": [
        "len(mapped_test_vecs[0])"
      ],
      "execution_count": 230,
      "outputs": [
        {
          "output_type": "execute_result",
          "data": {
            "text/plain": [
              "1931"
            ]
          },
          "metadata": {
            "tags": []
          },
          "execution_count": 230
        }
      ]
    },
    {
      "cell_type": "code",
      "metadata": {
        "id": "qLxjn_vBWtQT",
        "colab_type": "code",
        "colab": {
          "base_uri": "https://localhost:8080/",
          "height": 136
        },
        "outputId": "da40bafc-8502-4b08-8463-bbd9f5fe69fe"
      },
      "source": [
        "desc_bagw_test"
      ],
      "execution_count": 231,
      "outputs": [
        {
          "output_type": "execute_result",
          "data": {
            "text/plain": [
              "array([[0., 0., 0., ..., 0., 0., 0.],\n",
              "       [0., 0., 0., ..., 0., 0., 0.],\n",
              "       [0., 0., 0., ..., 0., 0., 0.],\n",
              "       ...,\n",
              "       [0., 0., 0., ..., 0., 0., 0.],\n",
              "       [0., 0., 0., ..., 0., 0., 0.],\n",
              "       [0., 0., 0., ..., 0., 0., 0.]])"
            ]
          },
          "metadata": {
            "tags": []
          },
          "execution_count": 231
        }
      ]
    },
    {
      "cell_type": "code",
      "metadata": {
        "id": "HJix6OA9P6CS",
        "colab_type": "code",
        "colab": {
          "base_uri": "https://localhost:8080/",
          "height": 997
        },
        "outputId": "35d1e610-ada8-4355-c9e1-b724fdc17768"
      },
      "source": [
        "predicted = []\n",
        "actual = []\n",
        "\n",
        "for description_vec, label in random.sample(list(zip(desc_bagw_test, desc_labels_test)), 100):\n",
        "  top_k = top_k_similiar(30, mapped_test_vecs, np.array(desc_labels_test), description_vec)\n",
        "  print(label in top_k)\n",
        "  predicted.append(label if label in top_k else top_k[0])\n",
        "  actual.append(label)"
      ],
      "execution_count": 232,
      "outputs": [
        {
          "output_type": "stream",
          "text": [
            "False\n",
            "False\n",
            "False\n",
            "False\n",
            "False\n",
            "True\n",
            "False\n",
            "False\n",
            "False\n",
            "False\n",
            "False\n",
            "False\n",
            "False\n",
            "False\n",
            "False\n",
            "False\n",
            "False\n",
            "False\n",
            "False\n",
            "False\n",
            "False\n",
            "False\n",
            "False\n",
            "False\n",
            "False\n",
            "False\n",
            "False\n",
            "False\n",
            "False\n",
            "False\n",
            "False\n",
            "False\n",
            "False\n",
            "False\n",
            "False\n",
            "False\n",
            "False\n",
            "False\n"
          ],
          "name": "stdout"
        },
        {
          "output_type": "error",
          "ename": "KeyboardInterrupt",
          "evalue": "ignored",
          "traceback": [
            "\u001b[0;31m---------------------------------------------------------------------------\u001b[0m",
            "\u001b[0;31mKeyboardInterrupt\u001b[0m                         Traceback (most recent call last)",
            "\u001b[0;32m<ipython-input-232-52121958aab3>\u001b[0m in \u001b[0;36m<module>\u001b[0;34m()\u001b[0m\n\u001b[1;32m      3\u001b[0m \u001b[0;34m\u001b[0m\u001b[0m\n\u001b[1;32m      4\u001b[0m \u001b[0;32mfor\u001b[0m \u001b[0mdescription_vec\u001b[0m\u001b[0;34m,\u001b[0m \u001b[0mlabel\u001b[0m \u001b[0;32min\u001b[0m \u001b[0mrandom\u001b[0m\u001b[0;34m.\u001b[0m\u001b[0msample\u001b[0m\u001b[0;34m(\u001b[0m\u001b[0mlist\u001b[0m\u001b[0;34m(\u001b[0m\u001b[0mzip\u001b[0m\u001b[0;34m(\u001b[0m\u001b[0mdesc_bagw_test\u001b[0m\u001b[0;34m,\u001b[0m \u001b[0mdesc_labels_test\u001b[0m\u001b[0;34m)\u001b[0m\u001b[0;34m)\u001b[0m\u001b[0;34m,\u001b[0m \u001b[0;36m100\u001b[0m\u001b[0;34m)\u001b[0m\u001b[0;34m:\u001b[0m\u001b[0;34m\u001b[0m\u001b[0;34m\u001b[0m\u001b[0m\n\u001b[0;32m----> 5\u001b[0;31m   \u001b[0mtop_k\u001b[0m \u001b[0;34m=\u001b[0m \u001b[0mtop_k_similiar\u001b[0m\u001b[0;34m(\u001b[0m\u001b[0;36m30\u001b[0m\u001b[0;34m,\u001b[0m \u001b[0mmapped_test_vecs\u001b[0m\u001b[0;34m,\u001b[0m \u001b[0mnp\u001b[0m\u001b[0;34m.\u001b[0m\u001b[0marray\u001b[0m\u001b[0;34m(\u001b[0m\u001b[0mdesc_labels_test\u001b[0m\u001b[0;34m)\u001b[0m\u001b[0;34m,\u001b[0m \u001b[0mdescription_vec\u001b[0m\u001b[0;34m)\u001b[0m\u001b[0;34m\u001b[0m\u001b[0;34m\u001b[0m\u001b[0m\n\u001b[0m\u001b[1;32m      6\u001b[0m   \u001b[0mprint\u001b[0m\u001b[0;34m(\u001b[0m\u001b[0mlabel\u001b[0m \u001b[0;32min\u001b[0m \u001b[0mtop_k\u001b[0m\u001b[0;34m)\u001b[0m\u001b[0;34m\u001b[0m\u001b[0;34m\u001b[0m\u001b[0m\n\u001b[1;32m      7\u001b[0m   \u001b[0mpredicted\u001b[0m\u001b[0;34m.\u001b[0m\u001b[0mappend\u001b[0m\u001b[0;34m(\u001b[0m\u001b[0mlabel\u001b[0m \u001b[0;32mif\u001b[0m \u001b[0mlabel\u001b[0m \u001b[0;32min\u001b[0m \u001b[0mtop_k\u001b[0m \u001b[0;32melse\u001b[0m \u001b[0mtop_k\u001b[0m\u001b[0;34m[\u001b[0m\u001b[0;36m0\u001b[0m\u001b[0;34m]\u001b[0m\u001b[0;34m)\u001b[0m\u001b[0;34m\u001b[0m\u001b[0;34m\u001b[0m\u001b[0m\n",
            "\u001b[0;32m<ipython-input-220-d2b3d9e6e59a>\u001b[0m in \u001b[0;36mtop_k_similiar\u001b[0;34m(k, mapped_vecs, mapped_vecs_labels, test_vec)\u001b[0m\n\u001b[1;32m      1\u001b[0m \u001b[0;32mdef\u001b[0m \u001b[0mtop_k_similiar\u001b[0m\u001b[0;34m(\u001b[0m\u001b[0mk\u001b[0m\u001b[0;34m,\u001b[0m \u001b[0mmapped_vecs\u001b[0m\u001b[0;34m,\u001b[0m \u001b[0mmapped_vecs_labels\u001b[0m\u001b[0;34m,\u001b[0m \u001b[0mtest_vec\u001b[0m\u001b[0;34m)\u001b[0m\u001b[0;34m:\u001b[0m\u001b[0;34m\u001b[0m\u001b[0;34m\u001b[0m\u001b[0m\n\u001b[0;32m----> 2\u001b[0;31m     \u001b[0mdistances\u001b[0m \u001b[0;34m=\u001b[0m \u001b[0mnp\u001b[0m\u001b[0;34m.\u001b[0m\u001b[0mlinalg\u001b[0m\u001b[0;34m.\u001b[0m\u001b[0mnorm\u001b[0m\u001b[0;34m(\u001b[0m\u001b[0mmapped_vecs\u001b[0m\u001b[0;34m-\u001b[0m\u001b[0mtest_vec\u001b[0m\u001b[0;34m)\u001b[0m\u001b[0;34m\u001b[0m\u001b[0;34m\u001b[0m\u001b[0m\n\u001b[0m\u001b[1;32m      3\u001b[0m     \u001b[0msorted_indices\u001b[0m \u001b[0;34m=\u001b[0m \u001b[0mnp\u001b[0m\u001b[0;34m.\u001b[0m\u001b[0margsort\u001b[0m\u001b[0;34m(\u001b[0m\u001b[0mdistances\u001b[0m\u001b[0;34m)\u001b[0m\u001b[0;34m\u001b[0m\u001b[0;34m\u001b[0m\u001b[0m\n\u001b[1;32m      4\u001b[0m     \u001b[0mpredicted\u001b[0m \u001b[0;34m=\u001b[0m \u001b[0mmapped_vecs_labels\u001b[0m\u001b[0;34m[\u001b[0m\u001b[0msorted_indices\u001b[0m\u001b[0;34m[\u001b[0m\u001b[0;34m:\u001b[0m\u001b[0mk\u001b[0m\u001b[0;34m]\u001b[0m\u001b[0;34m]\u001b[0m\u001b[0;34m\u001b[0m\u001b[0;34m\u001b[0m\u001b[0m\n\u001b[1;32m      5\u001b[0m     \u001b[0;32mreturn\u001b[0m \u001b[0mpredicted\u001b[0m\u001b[0;34m\u001b[0m\u001b[0;34m\u001b[0m\u001b[0m\n",
            "\u001b[0;31mKeyboardInterrupt\u001b[0m: "
          ]
        }
      ]
    },
    {
      "cell_type": "code",
      "metadata": {
        "id": "5pIQC7ZaSInE",
        "colab_type": "code",
        "colab": {
          "base_uri": "https://localhost:8080/",
          "height": 34
        },
        "outputId": "dd30671a-df97-43b5-df96-bede6a58e746"
      },
      "source": [
        "sklearn.metrics.accuracy_score(actual, predicted)"
      ],
      "execution_count": 218,
      "outputs": [
        {
          "output_type": "execute_result",
          "data": {
            "text/plain": [
              "0.0"
            ]
          },
          "metadata": {
            "tags": []
          },
          "execution_count": 218
        }
      ]
    },
    {
      "cell_type": "code",
      "metadata": {
        "id": "ObThMQF-DoLw",
        "colab_type": "code",
        "colab": {}
      },
      "source": [
        ""
      ],
      "execution_count": 0,
      "outputs": []
    }
  ]
}